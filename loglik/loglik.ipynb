{
 "cells": [
  {
   "cell_type": "code",
   "execution_count": 19,
   "metadata": {},
   "outputs": [],
   "source": [
    "import pandas as pd \n",
    "import numpy as np \n",
    "import scipy.stats as st \n",
    "from scipy.interpolate import interp1d\n",
    "from matplotlib import pyplot as plt \n",
    "import math\n",
    "import statistics as stats"
   ]
  },
  {
   "cell_type": "code",
   "execution_count": 20,
   "metadata": {},
   "outputs": [
    {
     "name": "stdout",
     "output_type": "stream",
     "text": [
      "7.636501998806637e+44\n",
      "             A         B             C\n",
      "0   106.092218  1.789340  1.882000e+45\n",
      "1   114.110142  1.738364  2.360000e+44\n",
      "2    67.115742  1.652795  4.360000e+44\n",
      "3    71.672233  1.583762  1.880000e+44\n",
      "4    90.909547  1.739032  7.660000e+44\n",
      "5    38.123940  1.808629  1.980000e+44\n",
      "6    41.883301  1.714128  4.910000e+44\n",
      "7    82.687048  1.682018  6.850000e+44\n",
      "8    85.521977  1.879507  1.260000e+44\n",
      "9   114.461895  2.201856  2.140000e+44\n",
      "10   69.432624  1.673766  1.165000e+45\n",
      "11   61.413106  1.965651  2.190000e+44\n",
      "12   55.493025  1.677278  1.580000e+44\n",
      "13  113.929572  3.377548  9.960000e+44\n",
      "14   47.997254  1.746228  4.442000e+45\n",
      "15   65.130841  1.806652  4.890000e+44\n",
      "16  113.431624  1.855293  4.040000e+44\n",
      "17   64.887819  1.987868  2.860000e+44\n",
      "18   64.102514  1.453331  2.730000e+44\n",
      "19   93.788092  1.870178  3.720000e+44\n",
      "20   78.844022  1.692492  6.020000e+44\n",
      "21   57.374911  1.554653  5.870000e+44\n",
      "22   74.349528  1.669636  4.590000e+44\n",
      "23   69.092579  1.668290  1.233000e+45\n",
      "24   71.407088  1.716432  1.160000e+44\n",
      "25   82.345132  1.720942  1.880000e+44\n",
      "26   93.522354  1.579339  3.830000e+44\n",
      "27   74.835887  1.945104  1.200000e+44\n",
      "28  100.546046  1.867169  1.225000e+45\n",
      "29   53.352733  1.702883  5.880000e+44\n",
      "30   75.562878  1.929679  4.200000e+44\n",
      "31  114.678430  1.703680  7.700000e+44\n",
      "32  108.271262  1.579944  2.260000e+44\n",
      "33   58.534688  1.713424  1.640000e+44\n",
      "34   74.190983  1.779334  3.970000e+44\n",
      "35   67.854540  2.057816  3.830000e+44\n"
     ]
    }
   ],
   "source": [
    "data=pd.read_csv('loglik_U.csv',header=0,)\n",
    "data = data.dropna(how='any')#quita los valores nan del documento\n",
    "y=data.iloc[:,0]\n",
    "w=data.iloc[:,1]\n",
    "x=data.iloc[:,2]\n",
    "\n",
    "print(stats.stdev(x))\n",
    "\n",
    "print(data)"
   ]
  },
  {
   "cell_type": "code",
   "execution_count": 21,
   "metadata": {},
   "outputs": [
    {
     "data": {
      "text/plain": [
       "<function matplotlib.pyplot.show(close=None, block=None)>"
      ]
     },
     "execution_count": 21,
     "metadata": {},
     "output_type": "execute_result"
    },
    {
     "data": {
      "image/png": "[encoded data removed]",
      "text/plain": [
       "<Figure size 432x288 with 1 Axes>"
      ]
     },
     "metadata": {
      "needs_background": "light"
     },
     "output_type": "display_data"
    }
   ],
   "source": [
    "yerror = w\n",
    "xerror = 7.636501998806637e+44\n",
    "plt.plot(x,y,'ro')\n",
    "plt.errorbar(x,y,yerr=yerror, fmt = ' ' , ecolor='black')\n",
    "plt.errorbar(x,y,xerr=xerror, fmt = ' ' , ecolor='blue')\n",
    "plt.ylabel('loglik_U_2')\n",
    "plt.xlabel('erg/seg')\n",
    "plt.title(\"luminosidad 5100\")\n",
    "plt.xscale('log')\n",
    "#plt.yscale('log')\n",
    "plt.grid()\n",
    "plt.savefig(\"Luminosidad_5100_loglik_U_error.pdf\")\n",
    "plt.show"
   ]
  },
  {
   "cell_type": "code",
   "execution_count": 22,
   "metadata": {},
   "outputs": [
    {
     "name": "stdout",
     "output_type": "stream",
     "text": [
      "7.424350748288597e+44\n",
      "    130.202315927  1.94962663854      18.82e44\n",
      "0      149.906770       2.918206  2.360000e+44\n",
      "1      105.104500       1.736560  4.360000e+44\n",
      "2       98.717990       1.618173  1.880000e+44\n",
      "3      125.089477       2.485903  7.660000e+44\n",
      "4       87.663066       1.858921  1.980000e+44\n",
      "5       87.293669       2.135802  4.910000e+44\n",
      "6      127.472369       1.732918  6.850000e+44\n",
      "7      127.449660       2.294009  1.260000e+44\n",
      "8      135.415960       2.130984  2.140000e+44\n",
      "9      108.173490       2.529859  1.165000e+45\n",
      "10     101.057148       2.106850  2.190000e+44\n",
      "11     103.470656       2.086177  1.580000e+44\n",
      "12     100.575973       1.765244  9.960000e+44\n",
      "13     149.282667       2.402297  4.442000e+45\n",
      "14     135.545889       2.216518  4.890000e+44\n",
      "15      65.130841       1.806652  4.040000e+44\n",
      "16     160.199001       3.053081  2.860000e+44\n",
      "17     112.908716       2.343088  2.730000e+44\n",
      "18     117.786019       1.732861  3.720000e+44\n",
      "19     166.444608       2.806432  6.020000e+44\n",
      "20      91.563931       1.746222  5.870000e+44\n",
      "21     121.327413       1.753963  4.590000e+44\n",
      "22     114.224626       2.934385  1.233000e+45\n",
      "23      11.403672       1.611195  1.160000e+44\n",
      "24      88.176710       1.801872  1.880000e+44\n",
      "25     140.936177       2.455924  3.830000e+44\n",
      "26     120.900639       1.828892  1.200000e+44\n",
      "27     134.788223       1.718125  1.225000e+45\n",
      "28     116.876448       2.133232  5.880000e+44\n",
      "29     130.833115       2.245586  4.200000e+44\n",
      "30     135.028288       2.992300  7.700000e+44\n",
      "31     114.295519       2.859624  2.260000e+44\n",
      "32     162.373388       1.709564  1.640000e+44\n",
      "33     106.612697       1.968459  3.970000e+44\n",
      "34     108.937633       1.862822  3.830000e+44\n"
     ]
    }
   ],
   "source": [
    "data=pd.read_csv('loglik_G.csv',header=0,)\n",
    "data = data.dropna(how='any')#quita los valores nan del documento\n",
    "y=data.iloc[:,0]\n",
    "w=data.iloc[:,1]\n",
    "x=data.iloc[:,2]\n",
    "\n",
    "print(stats.stdev(x))\n",
    "print(data)"
   ]
  },
  {
   "cell_type": "code",
   "execution_count": 23,
   "metadata": {},
   "outputs": [
    {
     "data": {
      "text/plain": [
       "<function matplotlib.pyplot.show(close=None, block=None)>"
      ]
     },
     "execution_count": 23,
     "metadata": {},
     "output_type": "execute_result"
    },
    {
     "data": {
      "image/png": "[encoded data removed]",
      "text/plain": [
       "<Figure size 432x288 with 1 Axes>"
      ]
     },
     "metadata": {
      "needs_background": "light"
     },
     "output_type": "display_data"
    }
   ],
   "source": [
    "yerror = w\n",
    "xerror = 7.424350748288597e+44 \n",
    "plt.plot(x,y,'ro')\n",
    "plt.errorbar(x,y,yerr=yerror, fmt = ' ' , ecolor='black')\n",
    "plt.errorbar(x,y,xerr=xerror, fmt = ' ' , ecolor='blue')\n",
    "plt.ylabel('loglik_G')\n",
    "plt.xlabel('erg/seg')\n",
    "plt.title(\"luminosidad 5100\")\n",
    "plt.xscale('log')\n",
    "#plt.yscale('log')\n",
    "plt.grid()\n",
    "plt.savefig(\"Luminosidad_5100_loglik_G_error.pdf\")\n",
    "plt.show"
   ]
  },
  {
   "cell_type": "code",
   "execution_count": 24,
   "metadata": {
    "scrolled": true
   },
   "outputs": [
    {
     "name": "stdout",
     "output_type": "stream",
     "text": [
      "7.636501998806637e+44\n",
      "             A         B             C\n",
      "0   154.399355  1.829780  1.882000e+45\n",
      "1   150.212161  2.298551  2.360000e+44\n",
      "2   109.168604  1.641570  4.360000e+44\n",
      "3   117.038446  1.661915  1.880000e+44\n",
      "4   131.885924  1.702738  7.660000e+44\n",
      "5    94.446818  1.600187  1.980000e+44\n",
      "6   102.201247  1.721380  4.910000e+44\n",
      "7   133.644248  1.619542  6.850000e+44\n",
      "8   122.880142  2.853628  1.260000e+44\n",
      "9   125.493599  2.305015  2.140000e+44\n",
      "10  115.575280  3.120890  1.165000e+45\n",
      "11   96.124072  1.881452  2.190000e+44\n",
      "12  127.602538  1.871681  1.580000e+44\n",
      "13  109.954747  1.795967  9.960000e+44\n",
      "14  152.709658  3.196295  4.442000e+45\n",
      "15  132.538366  2.133474  4.890000e+44\n",
      "16  104.920434  2.025247  4.040000e+44\n",
      "17  166.146616  1.948127  2.860000e+44\n",
      "18  137.986398  1.570309  2.730000e+44\n",
      "19  116.624729  1.632369  3.720000e+44\n",
      "20  164.310609  1.920422  6.020000e+44\n",
      "21  129.123536  1.776768  5.870000e+44\n",
      "22  106.599550  1.956374  4.590000e+44\n",
      "23  132.337081  1.941194  1.233000e+45\n",
      "24  125.136069  1.862315  1.160000e+44\n",
      "25  140.673805  1.741201  1.880000e+44\n",
      "26  109.218395  1.651118  3.830000e+44\n",
      "27  142.991843  2.406955  1.200000e+44\n",
      "28  108.754941  1.680206  1.225000e+45\n",
      "29  147.972351  1.660855  5.880000e+44\n",
      "30  121.084782  1.659207  4.200000e+44\n",
      "31  148.529707  1.705313  7.700000e+44\n",
      "32  158.854120  1.716287  2.260000e+44\n",
      "33  127.670154  1.750005  1.640000e+44\n",
      "34  108.112994  2.060524  3.970000e+44\n",
      "35  179.607860  1.740327  3.830000e+44\n"
     ]
    }
   ],
   "source": [
    "data=pd.read_csv('loglik_R.csv',header=0,)\n",
    "data = data.dropna(how='any')#quita los valores nan del documento\n",
    "y=data.iloc[:,0]\n",
    "w=data.iloc[:,1]\n",
    "x=data.iloc[:,2]\n",
    "print(stats.stdev(x))\n",
    "print(data)"
   ]
  },
  {
   "cell_type": "code",
   "execution_count": 14,
   "metadata": {},
   "outputs": [
    {
     "data": {
      "text/plain": [
       "<function matplotlib.pyplot.show(close=None, block=None)>"
      ]
     },
     "execution_count": 14,
     "metadata": {},
     "output_type": "execute_result"
    },
    {
     "data": {
      "image/png": "[encoded data removed]",
      "text/plain": [
       "<Figure size 432x288 with 1 Axes>"
      ]
     },
     "metadata": {
      "needs_background": "light"
     },
     "output_type": "display_data"
    }
   ],
   "source": [
    "yerror = w\n",
    "xerror = 7.636501998806637e+44 \n",
    "plt.plot(x,y,'ro')\n",
    "plt.errorbar(x,y,yerr=yerror, fmt = ' ' , ecolor='black')\n",
    "plt.errorbar(x,y,xerr=xerror, fmt = ' ' , ecolor='blue')\n",
    "plt.ylabel('loglik_R')\n",
    "plt.xlabel('erg/seg')\n",
    "plt.title(\"luminosidad 5100\")\n",
    "plt.xscale('log')\n",
    "#plt.yscale('log')\n",
    "plt.grid()\n",
    "plt.savefig(\"Luminosidad_5100_loglik_R_error.pdf\")\n",
    "plt.show"
   ]
  },
  {
   "cell_type": "code",
   "execution_count": 13,
   "metadata": {},
   "outputs": [
    {
     "name": "stdout",
     "output_type": "stream",
     "text": [
      "7.636501998806637e+44\n",
      "             A         B             C\n",
      "0   141.824069  3.040497  1.882000e+45\n",
      "1   151.780281  2.574591  2.360000e+44\n",
      "2    92.614660  1.641891  4.360000e+44\n",
      "3   110.824485  2.394953  1.880000e+44\n",
      "4   112.537535  2.833369  7.660000e+44\n",
      "5    82.653622  1.613353  1.980000e+44\n",
      "6    90.390099  1.868144  4.910000e+44\n",
      "7   115.311503  2.153094  6.850000e+44\n",
      "8   120.670278  2.945768  1.260000e+44\n",
      "9   128.871746  2.022604  2.140000e+44\n",
      "10  133.232825  3.091373  1.165000e+45\n",
      "11  105.613104  2.953670  2.190000e+44\n",
      "12  119.352667  1.604155  1.580000e+44\n",
      "13  105.764053  1.927249  9.960000e+44\n",
      "14  137.818425  2.197142  4.442000e+45\n",
      "15  127.747533  1.839146  4.890000e+44\n",
      "16   94.495213  2.871864  4.040000e+44\n",
      "17  163.973034  1.566277  2.860000e+44\n",
      "18  107.659455  1.525801  2.730000e+44\n",
      "19  106.402032  1.662936  3.720000e+44\n",
      "20  191.654031  1.669083  6.020000e+44\n",
      "21  122.684016  1.938199  5.870000e+44\n",
      "22   79.680813  2.351582  4.590000e+44\n",
      "23  113.158142  2.415318  1.233000e+45\n",
      "24  124.083039  1.583199  1.160000e+44\n",
      "25  103.324196  2.849895  1.880000e+44\n",
      "26   93.081458  1.652421  3.830000e+44\n",
      "27  141.672809  2.862703  1.200000e+44\n",
      "28  119.525738  3.343894  1.225000e+45\n",
      "29  127.089446  1.922863  5.880000e+44\n",
      "30  114.236083  3.047728  4.200000e+44\n",
      "31  130.414648  1.601120  7.700000e+44\n",
      "32  158.669322  1.732631  2.260000e+44\n",
      "33  119.799947  1.576563  1.640000e+44\n",
      "34  100.223296  3.072920  3.970000e+44\n",
      "35  163.474968  1.991819  3.830000e+44\n"
     ]
    }
   ],
   "source": [
    "data=pd.read_csv('loglik_I.csv',header=0,)\n",
    "data = data.dropna(how='any')#quita los valores nan del documento\n",
    "y=data.iloc[:,0]\n",
    "w=data.iloc[:,1]\n",
    "x=data.iloc[:,2]\n",
    "\n",
    "print(stats.stdev(x))\n",
    "print(data)"
   ]
  },
  {
   "cell_type": "code",
   "execution_count": 15,
   "metadata": {},
   "outputs": [
    {
     "data": {
      "text/plain": [
       "<function matplotlib.pyplot.show(close=None, block=None)>"
      ]
     },
     "execution_count": 15,
     "metadata": {},
     "output_type": "execute_result"
    },
    {
     "data": {
      "image/png": "[encoded data removed]",
      "text/plain": [
       "<Figure size 432x288 with 1 Axes>"
      ]
     },
     "metadata": {
      "needs_background": "light"
     },
     "output_type": "display_data"
    }
   ],
   "source": [
    "yerror = w\n",
    "xerror = 7.636501998806637e+44\n",
    "plt.plot(x,y,'ro')\n",
    "plt.errorbar(x,y,yerr=yerror, fmt = ' ' , ecolor='black')\n",
    "plt.errorbar(x,y,xerr=xerror, fmt = ' ' , ecolor='blue')\n",
    "plt.ylabel('loglik_I')\n",
    "plt.xlabel('erg/seg')\n",
    "plt.title(\"luminosidad 5100\")\n",
    "plt.xscale('log')\n",
    "#plt.yscale('log')\n",
    "plt.grid()\n",
    "plt.savefig(\"Luminosidad_5100_loglik_I_error.pdf\")\n",
    "plt.show"
   ]
  },
  {
   "cell_type": "code",
   "execution_count": 17,
   "metadata": {},
   "outputs": [
    {
     "name": "stdout",
     "output_type": "stream",
     "text": [
      "7.636501998806637e+44\n",
      "             A         B             C\n",
      "0   137.892281  1.687340  1.882000e+45\n",
      "1   113.125078  1.561252  2.360000e+44\n",
      "2    54.439427  1.585758  4.360000e+44\n",
      "3    65.567099  1.576602  1.880000e+44\n",
      "4   100.513633  1.802875  7.660000e+44\n",
      "5    55.107794  1.597530  1.980000e+44\n",
      "6    58.256015  1.521645  4.910000e+44\n",
      "7    78.319662  1.573330  6.850000e+44\n",
      "8    98.992731  1.835822  1.260000e+44\n",
      "9   115.243242  4.122565  2.140000e+44\n",
      "10   95.633837  1.622716  1.165000e+45\n",
      "11   61.590522  1.699663  2.190000e+44\n",
      "12   69.153299  1.584507  1.580000e+44\n",
      "13   48.803222  1.559464  9.960000e+44\n",
      "14  118.717210  1.564705  4.442000e+45\n",
      "15   76.505208  1.916490  4.890000e+44\n",
      "16   74.845118  1.657142  4.040000e+44\n",
      "17  119.769266  1.609931  2.860000e+44\n",
      "18   55.418008  1.677529  2.730000e+44\n",
      "19   72.191113  1.732935  3.720000e+44\n",
      "20  145.332053  4.059948  6.020000e+44\n",
      "21   62.115305  1.966725  5.870000e+44\n",
      "22   71.574975  1.487565  4.590000e+44\n",
      "23   69.374844  1.841354  1.233000e+45\n",
      "24   12.124854  1.703231  1.160000e+44\n",
      "25   66.499566  1.563036  1.880000e+44\n",
      "26  110.468086  1.624782  3.830000e+44\n",
      "27   78.700026  2.049537  1.200000e+44\n",
      "28   62.769659  1.733785  1.225000e+45\n",
      "29   87.023309  1.557148  5.880000e+44\n",
      "30   82.359470  1.582954  4.200000e+44\n",
      "31  102.902357  1.662697  7.700000e+44\n",
      "32   79.149105  1.538557  2.260000e+44\n",
      "33   54.685024  2.103819  1.640000e+44\n",
      "34  111.662575  1.457791  3.970000e+44\n",
      "35   76.011122  1.957854  3.830000e+44\n"
     ]
    }
   ],
   "source": [
    "data=pd.read_csv('loglik_Z.csv',header=0,)\n",
    "data = data.dropna(how='any')#quita los valores nan del documento\n",
    "y=data.iloc[:,0]\n",
    "w=data.iloc[:,1]\n",
    "x=data.iloc[:,2]\n",
    "print(stats.stdev(x))\n",
    "print(data)"
   ]
  },
  {
   "cell_type": "code",
   "execution_count": 18,
   "metadata": {},
   "outputs": [
    {
     "data": {
      "text/plain": [
       "<function matplotlib.pyplot.show(close=None, block=None)>"
      ]
     },
     "execution_count": 18,
     "metadata": {},
     "output_type": "execute_result"
    },
    {
     "data": {
      "image/png": "[encoded data removed]",
      "text/plain": [
       "<Figure size 432x288 with 1 Axes>"
      ]
     },
     "metadata": {
      "needs_background": "light"
     },
     "output_type": "display_data"
    }
   ],
   "source": [
    "yerror = w\n",
    "xerror = 7.636501998806637e+44\n",
    "plt.plot(x,y,'ro')\n",
    "plt.errorbar(x,y,yerr=yerror, fmt = ' ' , ecolor='black')\n",
    "plt.errorbar(x,y,xerr=xerror, fmt = ' ' , ecolor='blue')\n",
    "plt.ylabel('loglik_Z')\n",
    "plt.xlabel('erg/seg')\n",
    "plt.title(\"luminosidad 5100\")\n",
    "plt.xscale('log')\n",
    "#plt.yscale('log')\n",
    "plt.grid()\n",
    "plt.savefig(\"Luminosidad_5100_loglik_Z_error.pdf\")\n",
    "plt.show"
   ]
  }
 ],
 "metadata": {
  "kernelspec": {
   "display_name": "Python 3",
   "language": "python",
   "name": "python3"
  },
  "language_info": {
   "codemirror_mode": {
    "name": "ipython",
    "version": 3
   },
   "file_extension": ".py",
   "mimetype": "text/x-python",
   "name": "python",
   "nbconvert_exporter": "python",
   "pygments_lexer": "ipython3",
   "version": "3.7.6"
  }
 },
 "nbformat": 4,
 "nbformat_minor": 4
}
