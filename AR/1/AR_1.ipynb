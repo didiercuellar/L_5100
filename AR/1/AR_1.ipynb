{
 "cells": [
  {
   "cell_type": "code",
   "execution_count": 1,
   "metadata": {},
   "outputs": [],
   "source": [
    "import pandas as pd \n",
    "import numpy as np \n",
    "import scipy.stats as st \n",
    "from scipy.interpolate import interp1d\n",
    "from matplotlib import pyplot as plt \n",
    "import math\n",
    "import statistics as stats"
   ]
  },
  {
   "cell_type": "code",
   "execution_count": 3,
   "metadata": {},
   "outputs": [
    {
     "name": "stdout",
     "output_type": "stream",
     "text": [
      "7.636501998806637e+44\n",
      "           A         B             c\n",
      "0   0.411784  1.138076  1.882000e+45\n",
      "1   1.076529  2.549643  2.360000e+44\n",
      "2   0.344893  1.805657  4.360000e+44\n",
      "3   0.290591  1.104069  1.880000e+44\n",
      "4   0.319685  1.767705  7.660000e+44\n",
      "5   0.502949  1.263781  1.980000e+44\n",
      "6   1.195958  2.545575  4.910000e+44\n",
      "7   0.763754  1.305997  6.850000e+44\n",
      "8   1.244103  2.439712  1.260000e+44\n",
      "9   1.193816  2.671509  2.140000e+44\n",
      "10  0.570943  2.029017  1.165000e+45\n",
      "11  0.153155  0.952812  2.190000e+44\n",
      "12  0.394001  1.934140  1.580000e+44\n",
      "13  0.740282  2.437442  9.960000e+44\n",
      "14  0.649247  2.175012  4.442000e+45\n",
      "15  0.881436  2.327185  4.890000e+44\n",
      "16  0.383543  1.991499  4.040000e+44\n",
      "17  0.877571  2.202451  2.860000e+44\n",
      "18  0.366256  1.130894  2.730000e+44\n",
      "19  0.411800  1.814461  3.720000e+44\n",
      "20  0.543287  2.187954  6.020000e+44\n",
      "21  0.478902  1.844556  5.870000e+44\n",
      "22  1.065126  2.271478  4.590000e+44\n",
      "23  0.703083  2.256125  1.233000e+45\n",
      "24  0.990205  2.255233  1.160000e+44\n",
      "25  1.121248  2.478571  1.880000e+44\n",
      "26  0.792190  2.146730  3.830000e+44\n",
      "27  1.105838  2.266705  1.200000e+44\n",
      "28  0.468388  1.233203  1.225000e+45\n",
      "29  0.417968  1.886522  5.880000e+44\n",
      "30  0.768165  2.062233  4.200000e+44\n",
      "31  0.403970  1.847505  7.700000e+44\n",
      "32  0.886289  2.251101  2.260000e+44\n",
      "33  0.460897  1.995998  1.640000e+44\n",
      "34  0.666228  1.372721  3.970000e+44\n",
      "35  0.594062  1.102991  3.830000e+44\n"
     ]
    }
   ],
   "source": [
    "data=pd.read_csv('AR_1_U.csv',header=0,)\n",
    "data = data.dropna(how='any')#quita los valores nan del documento\n",
    "y=data.iloc[:,0]\n",
    "w=data.iloc[:,1]\n",
    "x=data.iloc[:,2]\n",
    "\n",
    "print(stats.stdev(x))\n",
    "print(data)"
   ]
  },
  {
   "cell_type": "code",
   "execution_count": 5,
   "metadata": {},
   "outputs": [
    {
     "data": {
      "text/plain": [
       "<function matplotlib.pyplot.show(close=None, block=None)>"
      ]
     },
     "execution_count": 5,
     "metadata": {},
     "output_type": "execute_result"
    },
    {
     "data": {
      "image/png": "[encoded data removed]",
      "text/plain": [
       "<Figure size 432x288 with 1 Axes>"
      ]
     },
     "metadata": {
      "needs_background": "light"
     },
     "output_type": "display_data"
    }
   ],
   "source": [
    "yerror = w\n",
    "xerror = 7.636501998806637e+44\n",
    "plt.plot(x,y,'ro')\n",
    "plt.errorbar(x,y,yerr=yerror, fmt = ' ' , ecolor='black')\n",
    "plt.errorbar(x,y,xerr=xerror, fmt = ' ' , ecolor='blue')\n",
    "plt.ylabel('AR_U_1')\n",
    "plt.xlabel('erg/seg')\n",
    "plt.title(\"Luminosidad_UV_GALEX_AB\")\n",
    "plt.xscale('log')\n",
    "#plt.yscale('log')\n",
    "plt.grid()\n",
    "plt.savefig(\"Luminosidad_5100_AR_U_1_error.pdf\")\n",
    "plt.show"
   ]
  },
  {
   "cell_type": "code",
   "execution_count": 7,
   "metadata": {},
   "outputs": [
    {
     "name": "stdout",
     "output_type": "stream",
     "text": [
      "7.636501998806637e+44\n",
      "1.098685597132046\n",
      "           A             B\n",
      "0   1.455610  1.882000e+45\n",
      "1   0.943962  2.360000e+44\n",
      "2   0.443118  4.360000e+44\n",
      "3   2.370353  1.880000e+44\n",
      "4   0.432795  7.660000e+44\n",
      "5   1.423855  1.980000e+44\n",
      "6   0.493137  4.910000e+44\n",
      "7   2.175539  6.850000e+44\n",
      "8   2.274134  1.260000e+44\n",
      "9   1.202399  2.140000e+44\n",
      "10  1.161422  1.165000e+45\n",
      "11  0.632150  2.190000e+44\n",
      "12  0.627928  1.580000e+44\n",
      "13  1.210559  9.960000e+44\n",
      "14  1.660327  4.442000e+45\n",
      "15  1.611070  4.890000e+44\n",
      "16  0.181643  4.040000e+44\n",
      "17  1.204787  2.860000e+44\n",
      "18  0.450552  2.730000e+44\n",
      "19  0.682330  3.720000e+44\n",
      "20  0.554829  6.020000e+44\n",
      "21  1.127944  5.870000e+44\n",
      "22  1.683757  4.590000e+44\n",
      "23  6.346533  1.233000e+45\n",
      "24  0.596994  1.160000e+44\n",
      "25  3.018839  1.880000e+44\n",
      "26  1.582565  3.830000e+44\n",
      "27  1.283792  1.200000e+44\n",
      "28  0.331010  1.225000e+45\n",
      "29  0.697795  5.880000e+44\n",
      "30  1.954652  4.200000e+44\n",
      "31  1.416915  7.700000e+44\n",
      "32  0.827122  2.260000e+44\n",
      "33  0.721772  1.640000e+44\n",
      "34  0.833614  3.970000e+44\n",
      "35  0.141261  3.830000e+44\n"
     ]
    }
   ],
   "source": [
    "data=pd.read_csv('AR_1_G.csv',header=0,)\n",
    "data = data.dropna(how='any')#quita los valores nan del documento\n",
    "y=data.iloc[:,0]\n",
    "x=data.iloc[:,1]\n",
    "print(stats.stdev(x))\n",
    "print(stats.stdev(y))\n",
    "print(data)"
   ]
  },
  {
   "cell_type": "code",
   "execution_count": 8,
   "metadata": {},
   "outputs": [
    {
     "data": {
      "text/plain": [
       "<function matplotlib.pyplot.show(close=None, block=None)>"
      ]
     },
     "execution_count": 8,
     "metadata": {},
     "output_type": "execute_result"
    },
    {
     "data": {
      "image/png": "[encoded data removed]",
      "text/plain": [
       "<Figure size 432x288 with 1 Axes>"
      ]
     },
     "metadata": {
      "needs_background": "light"
     },
     "output_type": "display_data"
    }
   ],
   "source": [
    "yerror = 1.098685597132046\n",
    "xerror = 7.636501998806637e+44\n",
    "plt.plot(x,y,'ro')\n",
    "plt.errorbar(x,y,yerr=yerror, fmt = ' ' , ecolor='black')\n",
    "plt.errorbar(x,y,xerr=xerror, fmt = ' ' , ecolor='blue')\n",
    "plt.ylabel('AR_G_1')\n",
    "plt.xlabel('erg/seg')\n",
    "plt.title(\"Luminosidad_UV_GALEX_AB\")\n",
    "plt.xscale('log')\n",
    "#plt.yscale('log')\n",
    "plt.grid()\n",
    "plt.savefig(\"Luminosidad_5100_AR_G_1_error.pdf\")\n",
    "plt.show"
   ]
  },
  {
   "cell_type": "code",
   "execution_count": 10,
   "metadata": {
    "scrolled": true
   },
   "outputs": [
    {
     "name": "stdout",
     "output_type": "stream",
     "text": [
      "7.636501998806637e+44\n",
      "0.5671026642766979\n",
      "           A         B             C\n",
      "0   0.915703  2.492778  1.882000e+45\n",
      "1   1.132959  2.685760  2.360000e+44\n",
      "2   0.379168  1.790669  4.360000e+44\n",
      "3   0.415966  1.195463  1.880000e+44\n",
      "4   0.449154  2.176936  7.660000e+44\n",
      "5   0.415651  1.024174  1.980000e+44\n",
      "6   1.061236  2.413663  4.910000e+44\n",
      "7   0.474634  1.158187  6.850000e+44\n",
      "8   0.517322  1.663400  1.260000e+44\n",
      "9   1.148267  1.839163  2.140000e+44\n",
      "10  1.606809  2.142861  1.165000e+45\n",
      "11  0.236182  1.019044  2.190000e+44\n",
      "12  0.532512  2.433069  1.580000e+44\n",
      "13  0.647999  2.281443  9.960000e+44\n",
      "14  0.602236  1.909613  4.442000e+45\n",
      "15  1.149111  2.394414  4.890000e+44\n",
      "16  1.774575  2.647866  4.040000e+44\n",
      "17  0.689235  2.280064  2.860000e+44\n",
      "18  0.555093  2.145922  2.730000e+44\n",
      "19  0.269174  1.116349  3.720000e+44\n",
      "20  2.424977  1.748096  6.020000e+44\n",
      "21  0.303760  1.728368  5.870000e+44\n",
      "22  0.577994  1.192012  4.590000e+44\n",
      "23  0.959373  2.392288  1.233000e+45\n",
      "24  1.444765  2.553434  1.160000e+44\n",
      "25  0.609094  2.036819  1.880000e+44\n",
      "26  0.485847  1.160667  3.830000e+44\n",
      "27  2.696403  1.693393  1.200000e+44\n",
      "28  0.528185  2.095930  1.225000e+45\n",
      "29  0.918374  2.271917  5.880000e+44\n",
      "30  1.107811  2.419192  4.200000e+44\n",
      "31  0.795647  2.210590  7.700000e+44\n",
      "32  0.535803  2.191962  2.260000e+44\n",
      "33  0.517212  2.090665  1.640000e+44\n",
      "34  0.319394  1.017325  3.970000e+44\n",
      "35  0.791040  2.371475  3.830000e+44\n"
     ]
    }
   ],
   "source": [
    "data=pd.read_csv('AR_1_R.csv',header=0,)\n",
    "data = data.dropna(how='any')#quita los valores nan del documento\n",
    "y=data.iloc[:,0]\n",
    "x=data.iloc[:,2]\n",
    "print(stats.stdev(x))\n",
    "print(stats.stdev(y))\n",
    "print(data)"
   ]
  },
  {
   "cell_type": "code",
   "execution_count": 11,
   "metadata": {},
   "outputs": [
    {
     "data": {
      "text/plain": [
       "<function matplotlib.pyplot.show(close=None, block=None)>"
      ]
     },
     "execution_count": 11,
     "metadata": {},
     "output_type": "execute_result"
    },
    {
     "data": {
      "image/png": "[encoded data removed]",
      "text/plain": [
       "<Figure size 432x288 with 1 Axes>"
      ]
     },
     "metadata": {
      "needs_background": "light"
     },
     "output_type": "display_data"
    }
   ],
   "source": [
    "yerror = 0.5671026642766979\n",
    "xerror = 7.636501998806637e+44\n",
    "plt.plot(x,y,'ro')\n",
    "plt.errorbar(x,y,yerr=yerror, fmt = ' ' , ecolor='black')\n",
    "plt.errorbar(x,y,xerr=xerror, fmt = ' ' , ecolor='blue')\n",
    "plt.ylabel('AR_R_1')\n",
    "plt.xlabel('erg/seg')\n",
    "plt.title(\"Luminosidad_UV_GALEX_AB\")\n",
    "plt.xscale('log')\n",
    "#plt.yscale('log')\n",
    "plt.grid()\n",
    "plt.savefig(\"Luminosidad_5100_AR_R_1_error.pdf\")\n",
    "plt.show"
   ]
  },
  {
   "cell_type": "code",
   "execution_count": 13,
   "metadata": {},
   "outputs": [
    {
     "name": "stdout",
     "output_type": "stream",
     "text": [
      "7.636501998806637e+44\n",
      "0.6717682543452637\n",
      "           A         B             C\n",
      "0   1.471469  2.101748  1.882000e+45\n",
      "1   1.020110  2.439465  2.360000e+44\n",
      "2   0.537924  1.960089  4.360000e+44\n",
      "3   0.343263  1.072385  1.880000e+44\n",
      "4   0.115155  1.468025  7.660000e+44\n",
      "5   0.397382  1.100232  1.980000e+44\n",
      "6   0.947052  2.251859  4.910000e+44\n",
      "7   0.663435  1.263945  6.850000e+44\n",
      "8   1.640888  2.114657  1.260000e+44\n",
      "9   1.143993  2.531450  2.140000e+44\n",
      "10  3.149174  1.899663  1.165000e+45\n",
      "11  0.957337  2.295542  2.190000e+44\n",
      "12  0.427887  1.961704  1.580000e+44\n",
      "13  1.227743  2.353830  9.960000e+44\n",
      "14  2.408718  2.566071  4.442000e+45\n",
      "15  1.387143  2.500038  4.890000e+44\n",
      "16  1.461199  2.048195  4.040000e+44\n",
      "17  0.592199  2.269263  2.860000e+44\n",
      "18  0.660132  2.250493  2.730000e+44\n",
      "19  0.456238  1.158053  3.720000e+44\n",
      "20  0.808038  2.097221  6.020000e+44\n",
      "21  0.202855  1.792334  5.870000e+44\n",
      "22  0.273175  1.185579  4.590000e+44\n",
      "23  0.644541  1.889720  1.233000e+45\n",
      "24  0.809501  2.332752  1.160000e+44\n",
      "25  0.082994  0.869399  1.880000e+44\n",
      "26  0.967876  2.243981  3.830000e+44\n",
      "27  2.190222  2.102792  1.200000e+44\n",
      "28  0.903153  2.432153  1.225000e+45\n",
      "29  1.256574  2.521347  5.880000e+44\n",
      "30  0.115222  1.891877  4.200000e+44\n",
      "31  0.627194  2.276224  7.700000e+44\n",
      "32  0.725041  2.341531  2.260000e+44\n",
      "33  0.508202  2.124880  1.640000e+44\n",
      "34  0.137646  0.999784  3.970000e+44\n",
      "35  1.064261  2.307999  3.830000e+44\n"
     ]
    }
   ],
   "source": [
    "data=pd.read_csv('AR_1_I.csv',header=0,)\n",
    "data = data.dropna(how='any')#quita los valores nan del documento\n",
    "y=data.iloc[:,0]\n",
    "x=data.iloc[:,2]\n",
    "print(stats.stdev(x))\n",
    "print(stats.stdev(y))\n",
    "\n",
    "print(data)"
   ]
  },
  {
   "cell_type": "code",
   "execution_count": 14,
   "metadata": {},
   "outputs": [
    {
     "data": {
      "text/plain": [
       "<function matplotlib.pyplot.show(close=None, block=None)>"
      ]
     },
     "execution_count": 14,
     "metadata": {},
     "output_type": "execute_result"
    },
    {
     "data": {
      "image/png": "[encoded data removed]",
      "text/plain": [
       "<Figure size 432x288 with 1 Axes>"
      ]
     },
     "metadata": {
      "needs_background": "light"
     },
     "output_type": "display_data"
    }
   ],
   "source": [
    "yerror = 0.6717682543452637\n",
    "xerror = 7.636501998806637e+44\n",
    "plt.plot(x,y,'ro')\n",
    "plt.errorbar(x,y,yerr=yerror, fmt = ' ' , ecolor='black')\n",
    "plt.errorbar(x,y,xerr=xerror, fmt = ' ' , ecolor='blue')\n",
    "plt.ylabel('AR_I_1')\n",
    "plt.xlabel('erg/seg')\n",
    "plt.title(\"Luminosidad_UV_GALEX_AB\")\n",
    "plt.xscale('log')\n",
    "#plt.yscale('log')\n",
    "plt.grid()\n",
    "plt.savefig(\"Luminosidad_5100_AR_I_1.pdf\")\n",
    "plt.show"
   ]
  },
  {
   "cell_type": "code",
   "execution_count": 16,
   "metadata": {},
   "outputs": [
    {
     "name": "stdout",
     "output_type": "stream",
     "text": [
      "7.512658889027753e+44\n",
      "0.5200823337351019\n",
      "    0.544277380788  2.12035792523       2.36e44\n",
      "0         0.497133       1.987317  4.360000e+44\n",
      "1         0.416236       1.136550  1.880000e+44\n",
      "2         0.731127       2.323023  7.660000e+44\n",
      "3         0.464140       1.168644  1.980000e+44\n",
      "4         0.716237       2.294206  4.910000e+44\n",
      "5         0.489555       1.127366  6.850000e+44\n",
      "6         1.204107       2.277670  1.260000e+44\n",
      "7         1.261958       1.994870  2.140000e+44\n",
      "8         0.690545       2.122802  1.165000e+45\n",
      "9         0.709414       2.291389  2.190000e+44\n",
      "10        0.551239       2.308702  1.580000e+44\n",
      "11        0.419983       1.166339  9.960000e+44\n",
      "12        0.620472       2.297065  4.442000e+45\n",
      "13        0.502938       2.062734  4.890000e+44\n",
      "14        0.820645       2.319309  4.040000e+44\n",
      "15        0.531518       2.160119  2.860000e+44\n",
      "16        0.545861       2.123537  2.730000e+44\n",
      "17        0.685899       1.391431  3.720000e+44\n",
      "18        3.380354       2.033252  6.020000e+44\n",
      "19        0.531992       2.135335  5.870000e+44\n",
      "20        0.420955       1.880708  4.590000e+44\n",
      "21        0.511643       2.187911  1.233000e+45\n",
      "22        0.749859       2.483173  1.160000e+44\n",
      "23        0.558485       2.085645  1.880000e+44\n",
      "24        0.791105       1.979095  3.830000e+44\n",
      "25        0.513791       2.090643  1.200000e+44\n",
      "26        1.015910       2.588534  1.225000e+45\n",
      "27        0.794101       2.267907  5.880000e+44\n",
      "28        0.526745       2.191995  4.200000e+44\n",
      "29        0.607104       2.141723  7.700000e+44\n",
      "30        0.744103       2.135727  2.260000e+44\n",
      "31        0.261177       1.230845  1.640000e+44\n",
      "32        0.641921       2.165091  3.970000e+44\n",
      "33        0.266303       1.131368  3.830000e+44\n"
     ]
    }
   ],
   "source": [
    "data=pd.read_csv('AR_1_Z.csv',header=1,)\n",
    "data = data.dropna(how='any')#quita los valores nan del documento\n",
    "y=data.iloc[:,0]\n",
    "x=data.iloc[:,2]\n",
    "print(stats.stdev(x))\n",
    "print(stats.stdev(y))\n",
    "\n",
    "print(data)"
   ]
  },
  {
   "cell_type": "code",
   "execution_count": 18,
   "metadata": {},
   "outputs": [
    {
     "data": {
      "text/plain": [
       "<function matplotlib.pyplot.show(close=None, block=None)>"
      ]
     },
     "execution_count": 18,
     "metadata": {},
     "output_type": "execute_result"
    },
    {
     "data": {
      "image/png": "[encoded data removed]",
      "text/plain": [
       "<Figure size 432x288 with 1 Axes>"
      ]
     },
     "metadata": {
      "needs_background": "light"
     },
     "output_type": "display_data"
    }
   ],
   "source": [
    "yerror = 0.5200823337351019\n",
    "xerror = 7.512658889027753e+44\n",
    "plt.plot(x,y,'ro')\n",
    "plt.errorbar(x,y,yerr=yerror, fmt = ' ' , ecolor='black')\n",
    "plt.errorbar(x,y,xerr=xerror, fmt = ' ' , ecolor='blue')\n",
    "plt.ylabel('AR_Z_1')\n",
    "plt.xlabel('erg/seg')\n",
    "plt.title(\"Luminosidad_UV_GALEX_AB\")\n",
    "plt.xscale('log')\n",
    "#plt.yscale('log')\n",
    "plt.grid()\n",
    "plt.savefig(\"Luminosidad_5100_AR_Z_1_error.pdf\")\n",
    "plt.show"
   ]
  },
  {
   "cell_type": "code",
   "execution_count": null,
   "metadata": {},
   "outputs": [],
   "source": []
  }
 ],
 "metadata": {
  "kernelspec": {
   "display_name": "Python 3",
   "language": "python",
   "name": "python3"
  },
  "language_info": {
   "codemirror_mode": {
    "name": "ipython",
    "version": 3
   },
   "file_extension": ".py",
   "mimetype": "text/x-python",
   "name": "python",
   "nbconvert_exporter": "python",
   "pygments_lexer": "ipython3",
   "version": "3.7.6"
  }
 },
 "nbformat": 4,
 "nbformat_minor": 4
}
