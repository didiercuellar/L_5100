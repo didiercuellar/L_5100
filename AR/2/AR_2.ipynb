{
 "cells": [
  {
   "cell_type": "code",
   "execution_count": 2,
   "metadata": {},
   "outputs": [],
   "source": [
    "import pandas as pd \n",
    "import numpy as np \n",
    "import scipy.stats as st \n",
    "from scipy.interpolate import interp1d\n",
    "from matplotlib import pyplot as plt \n",
    "import math\n",
    "import statistics as stats"
   ]
  },
  {
   "cell_type": "code",
   "execution_count": 5,
   "metadata": {},
   "outputs": [
    {
     "name": "stdout",
     "output_type": "stream",
     "text": [
      "7.424350748288597e+44\n",
      "0.8831910611139372\n",
      "    0.240217125942      18.82e44\n",
      "0         2.175642  2.360000e+44\n",
      "1         0.055222  4.360000e+44\n",
      "2         0.060443  1.880000e+44\n",
      "3         0.070739  7.660000e+44\n",
      "4         0.205223  1.980000e+44\n",
      "5         1.023104  4.910000e+44\n",
      "6         0.649839  6.850000e+44\n",
      "7         1.265851  1.260000e+44\n",
      "8         0.636987  2.140000e+44\n",
      "9         0.225057  1.165000e+45\n",
      "10        0.044262  2.190000e+44\n",
      "11        0.232791  1.580000e+44\n",
      "12        4.853634  9.960000e+44\n",
      "13        0.288246  4.442000e+45\n",
      "14        1.552347  4.890000e+44\n",
      "15        0.523928  4.040000e+44\n",
      "16        0.863102  2.860000e+44\n",
      "17        0.133561  2.730000e+44\n",
      "18        0.070883  3.720000e+44\n",
      "19        0.335052  6.020000e+44\n",
      "20        0.080812  5.870000e+44\n",
      "21        0.790584  4.590000e+44\n",
      "22        0.504932  1.233000e+45\n",
      "23        1.294053  1.160000e+44\n",
      "24        1.011755  1.880000e+44\n",
      "25        0.354924  3.830000e+44\n",
      "26        0.212887  1.200000e+44\n",
      "27        1.118562  1.225000e+45\n",
      "28        0.269054  5.880000e+44\n",
      "29        0.129244  4.200000e+44\n",
      "30        0.239073  7.700000e+44\n",
      "31        0.082200  2.260000e+44\n",
      "32        0.665045  1.640000e+44\n",
      "33        0.507966  3.970000e+44\n",
      "34        0.563997  3.830000e+44\n"
     ]
    }
   ],
   "source": [
    "data=pd.read_csv('AR_2_U.csv',header=0,)\n",
    "data = data.dropna(how='any')#quita los valores nan del documento\n",
    "y=data.iloc[:,0]\n",
    "x=data.iloc[:,1]\n",
    "print(stats.stdev(x))\n",
    "print(stats.stdev(y))\n",
    "print(data)"
   ]
  },
  {
   "cell_type": "code",
   "execution_count": 6,
   "metadata": {},
   "outputs": [
    {
     "data": {
      "text/plain": [
       "<function matplotlib.pyplot.show(close=None, block=None)>"
      ]
     },
     "execution_count": 6,
     "metadata": {},
     "output_type": "execute_result"
    },
    {
     "data": {
      "image/png": "[encoded data removed]",
      "text/plain": [
       "<Figure size 432x288 with 1 Axes>"
      ]
     },
     "metadata": {
      "needs_background": "light"
     },
     "output_type": "display_data"
    }
   ],
   "source": [
    "yerror = 0.8831910611139372\n",
    "xerror = 7.424350748288597e+44\n",
    "plt.plot(x,y,'ro')\n",
    "plt.errorbar(x,y,yerr=yerror, fmt = ' ' , ecolor='black')\n",
    "plt.errorbar(x,y,xerr=xerror, fmt = ' ' , ecolor='blue')\n",
    "plt.ylabel('AR_U_2')\n",
    "plt.xlabel('erg/seg')\n",
    "plt.title(\"Luminosidad_5100\")\n",
    "plt.xscale('log')\n",
    "#plt.yscale('log')\n",
    "plt.grid()\n",
    "plt.savefig(\"Luminosidad_5100_AR_U_2_error.pdf\")\n",
    "plt.show"
   ]
  },
  {
   "cell_type": "code",
   "execution_count": 7,
   "metadata": {},
   "outputs": [
    {
     "name": "stdout",
     "output_type": "stream",
     "text": [
      "7.636501998806637e+44\n",
      "5.956762360545942\n",
      "            A             C\n",
      "0    5.715810  1.882000e+45\n",
      "1    2.637592  2.360000e+44\n",
      "2    0.531011  4.360000e+44\n",
      "3    0.183625  1.880000e+44\n",
      "4    7.928892  7.660000e+44\n",
      "5    0.197092  1.980000e+44\n",
      "6    1.715594  4.910000e+44\n",
      "7    0.246670  6.850000e+44\n",
      "8    6.284349  1.260000e+44\n",
      "9    2.705753  2.140000e+44\n",
      "10   3.473937  1.165000e+45\n",
      "11   3.171038  2.190000e+44\n",
      "12   0.920595  1.580000e+44\n",
      "13   0.420070  9.960000e+44\n",
      "14   1.870739  4.442000e+45\n",
      "15   3.401505  4.890000e+44\n",
      "16   4.230274  4.040000e+44\n",
      "17   1.573554  2.860000e+44\n",
      "18   2.724704  2.730000e+44\n",
      "19   0.251564  3.720000e+44\n",
      "20   3.780832  6.020000e+44\n",
      "21   0.298259  5.870000e+44\n",
      "22   0.940078  4.590000e+44\n",
      "23   3.729114  1.233000e+45\n",
      "24  35.608858  1.160000e+44\n",
      "25   0.414673  1.880000e+44\n",
      "26   1.460860  3.830000e+44\n",
      "27   7.690958  1.200000e+44\n",
      "28   1.243065  1.225000e+45\n",
      "29   0.033734  5.880000e+44\n",
      "30   1.659623  4.200000e+44\n",
      "31   1.233157  7.700000e+44\n",
      "32   3.338111  2.260000e+44\n",
      "33   0.151038  1.640000e+44\n",
      "34   0.557905  3.970000e+44\n",
      "35   0.390858  3.830000e+44\n"
     ]
    }
   ],
   "source": [
    "data=pd.read_csv('AR_2_G.csv',header=0,)\n",
    "data = data.dropna(how='any')#quita los valores nan del documento\n",
    "y=data.iloc[:,0]\n",
    "x=data.iloc[:,1]\n",
    "print(stats.stdev(x))\n",
    "print(stats.stdev(y))\n",
    "print(data)"
   ]
  },
  {
   "cell_type": "code",
   "execution_count": 8,
   "metadata": {},
   "outputs": [
    {
     "data": {
      "text/plain": [
       "<function matplotlib.pyplot.show(close=None, block=None)>"
      ]
     },
     "execution_count": 8,
     "metadata": {},
     "output_type": "execute_result"
    },
    {
     "data": {
      "image/png": "[encoded data removed]",
      "text/plain": [
       "<Figure size 432x288 with 1 Axes>"
      ]
     },
     "metadata": {
      "needs_background": "light"
     },
     "output_type": "display_data"
    }
   ],
   "source": [
    "yerror = 5.956762360545942\n",
    "xerror = 7.636501998806637e+44\n",
    "plt.plot(x,y,'ro')\n",
    "plt.errorbar(x,y,yerr=yerror, fmt = ' ' , ecolor='black')\n",
    "plt.errorbar(x,y,xerr=xerror, fmt = ' ' , ecolor='blue')\n",
    "plt.ylabel('AR_G_2')\n",
    "plt.xlabel('erg/seg')\n",
    "plt.title(\"Luminosidad_5100\")\n",
    "plt.xscale('log')\n",
    "#plt.yscale('log')\n",
    "plt.grid()\n",
    "plt.savefig(\"Luminosidad_5100_AR_G_2_error.pdf\")\n",
    "plt.show"
   ]
  },
  {
   "cell_type": "code",
   "execution_count": 9,
   "metadata": {},
   "outputs": [
    {
     "name": "stdout",
     "output_type": "stream",
     "text": [
      "7.424350748288597e+44\n",
      "1.0575476646901993\n",
      "    0.783238250496      18.82e44\n",
      "0         1.910053  2.360000e+44\n",
      "1         0.043060  4.360000e+44\n",
      "2         0.082514  1.880000e+44\n",
      "3         0.418695  7.660000e+44\n",
      "4         0.105249  1.980000e+44\n",
      "5         0.639180  4.910000e+44\n",
      "6         0.116354  6.850000e+44\n",
      "7         1.629114  1.260000e+44\n",
      "8         0.992124  2.140000e+44\n",
      "9         1.610478  1.165000e+45\n",
      "10        0.033134  2.190000e+44\n",
      "11        0.479907  1.580000e+44\n",
      "12        0.507827  9.960000e+44\n",
      "13        3.594117  4.442000e+45\n",
      "14        1.830210  4.890000e+44\n",
      "15        3.705626  4.040000e+44\n",
      "16        0.960969  2.860000e+44\n",
      "17        0.276273  2.730000e+44\n",
      "18        0.103356  3.720000e+44\n",
      "19        1.286069  6.020000e+44\n",
      "20        0.197062  5.870000e+44\n",
      "21        0.462994  4.590000e+44\n",
      "22        0.972193  1.233000e+45\n",
      "23        2.375369  1.160000e+44\n",
      "24        0.183977  1.880000e+44\n",
      "25        0.206263  3.830000e+44\n",
      "26        3.692758  1.200000e+44\n",
      "27        0.515599  1.225000e+45\n",
      "28        0.878771  5.880000e+44\n",
      "29        1.665519  4.200000e+44\n",
      "30        0.342615  7.700000e+44\n",
      "31        0.080533  2.260000e+44\n",
      "32        0.182517  1.640000e+44\n",
      "33        0.035301  3.970000e+44\n",
      "34        0.505106  3.830000e+44\n"
     ]
    }
   ],
   "source": [
    "data=pd.read_csv('AR_2_R.csv',header=0,)\n",
    "data = data.dropna(how='any')#quita los valores nan del documento\n",
    "y=data.iloc[:,0]\n",
    "x=data.iloc[:,1]\n",
    "print(stats.stdev(x))\n",
    "print(stats.stdev(y))\n",
    "print(data)"
   ]
  },
  {
   "cell_type": "code",
   "execution_count": 11,
   "metadata": {},
   "outputs": [
    {
     "data": {
      "text/plain": [
       "<function matplotlib.pyplot.show(close=None, block=None)>"
      ]
     },
     "execution_count": 11,
     "metadata": {},
     "output_type": "execute_result"
    },
    {
     "data": {
      "image/png": "[encoded data removed]",
      "text/plain": [
       "<Figure size 432x288 with 1 Axes>"
      ]
     },
     "metadata": {
      "needs_background": "light"
     },
     "output_type": "display_data"
    }
   ],
   "source": [
    "yerror = 1.0575476646901993\n",
    "xerror = 7.424350748288597e+44\n",
    "plt.plot(x,y,'ro')\n",
    "plt.errorbar(x,y,yerr=yerror, fmt = ' ' , ecolor='black')\n",
    "plt.errorbar(x,y,xerr=xerror, fmt = ' ' , ecolor='blue')\n",
    "plt.ylabel('AR_R_2')\n",
    "plt.xlabel('erg/seg')\n",
    "plt.title(\"Luminosidad_5100\")\n",
    "plt.xscale('log')\n",
    "#plt.yscale('log')\n",
    "plt.grid()\n",
    "plt.savefig(\"Luminosidad_5100_AR_R_2_error.pdf\")\n",
    "plt.show"
   ]
  },
  {
   "cell_type": "code",
   "execution_count": 12,
   "metadata": {},
   "outputs": [
    {
     "name": "stdout",
     "output_type": "stream",
     "text": [
      "7.636501998806637e+44\n",
      "2.2587246761177395\n",
      "            A             C\n",
      "0    2.624631  1.882000e+45\n",
      "1    2.510650  2.360000e+44\n",
      "2    0.114183  4.360000e+44\n",
      "3    0.129539  1.880000e+44\n",
      "4    0.115155  7.660000e+44\n",
      "5    0.117425  1.980000e+44\n",
      "6    0.978608  4.910000e+44\n",
      "7    0.847420  6.850000e+44\n",
      "8    3.510674  1.260000e+44\n",
      "9   12.091779  2.140000e+44\n",
      "10   4.259433  1.165000e+45\n",
      "11   1.265950  2.190000e+44\n",
      "12   0.230821  1.580000e+44\n",
      "13   1.086372  9.960000e+44\n",
      "14   4.218564  4.442000e+45\n",
      "15   1.480220  4.890000e+44\n",
      "16   3.023356  4.040000e+44\n",
      "17   0.312877  2.860000e+44\n",
      "18   0.186869  2.730000e+44\n",
      "19   0.273019  3.720000e+44\n",
      "20   0.247043  6.020000e+44\n",
      "21   0.096677  5.870000e+44\n",
      "22   1.378078  4.590000e+44\n",
      "23   0.775541  1.233000e+45\n",
      "24   0.665577  1.160000e+44\n",
      "25   4.327587  1.880000e+44\n",
      "26   0.695473  3.830000e+44\n",
      "27   2.576144  1.200000e+44\n",
      "28   3.818363  1.225000e+45\n",
      "29   1.478634  5.880000e+44\n",
      "30   3.113136  4.200000e+44\n",
      "31   0.416703  7.700000e+44\n",
      "32   0.086668  2.260000e+44\n",
      "33   0.284866  1.640000e+44\n",
      "34   0.510673  3.970000e+44\n",
      "35   0.560143  3.830000e+44\n"
     ]
    }
   ],
   "source": [
    "data=pd.read_csv('AR_I_.csv',header=0,)\n",
    "data = data.dropna(how='any')#quita los valores nan del documento\n",
    "y=data.iloc[:,0]\n",
    "x=data.iloc[:,1]\n",
    "print(stats.stdev(x))\n",
    "print(stats.stdev(y))\n",
    "print(data)"
   ]
  },
  {
   "cell_type": "code",
   "execution_count": 14,
   "metadata": {},
   "outputs": [
    {
     "data": {
      "text/plain": [
       "<function matplotlib.pyplot.show(close=None, block=None)>"
      ]
     },
     "execution_count": 14,
     "metadata": {},
     "output_type": "execute_result"
    },
    {
     "data": {
      "image/png": "[encoded data removed]",
      "text/plain": [
       "<Figure size 432x288 with 1 Axes>"
      ]
     },
     "metadata": {
      "needs_background": "light"
     },
     "output_type": "display_data"
    }
   ],
   "source": [
    "yerror = 2.2587246761177395\n",
    "xerror = 7.636501998806637e+44\n",
    "plt.plot(x,y,'ro')\n",
    "plt.errorbar(x,y,yerr=yerror, fmt = ' ' , ecolor='black')\n",
    "plt.errorbar(x,y,xerr=xerror, fmt = ' ' , ecolor='blue')\n",
    "plt.ylabel('AR_I_2')\n",
    "plt.xlabel('erg/seg')\n",
    "plt.title(\"Luminosidad_5100\")\n",
    "plt.xscale('log')\n",
    "#plt.yscale('log')\n",
    "plt.grid()\n",
    "plt.savefig(\"Luminosidad_5100_AR_I_2_error.pdf\")\n",
    "plt.show"
   ]
  },
  {
   "cell_type": "code",
   "execution_count": 16,
   "metadata": {},
   "outputs": [
    {
     "name": "stdout",
     "output_type": "stream",
     "text": [
      "7.636501998806637e+44\n",
      "2.750962868624901\n",
      "            A             C\n",
      "0    0.589306  1.882000e+45\n",
      "1    0.281835  2.360000e+44\n",
      "2    0.156123  4.360000e+44\n",
      "3    0.391727  1.880000e+44\n",
      "4    1.529968  7.660000e+44\n",
      "5    0.179345  1.980000e+44\n",
      "6    0.456956  4.910000e+44\n",
      "7    0.216112  6.850000e+44\n",
      "8    1.287858  1.260000e+44\n",
      "9   14.403749  2.140000e+44\n",
      "10   0.197199  1.165000e+45\n",
      "11   0.518685  2.190000e+44\n",
      "12   0.186580  1.580000e+44\n",
      "13   0.251868  9.960000e+44\n",
      "14   0.612526  4.442000e+45\n",
      "15   0.072795  4.890000e+44\n",
      "16   0.826102  4.040000e+44\n",
      "17   0.247466  2.860000e+44\n",
      "18   0.093419  2.730000e+44\n",
      "19   0.950570  3.720000e+44\n",
      "20   9.503536  6.020000e+44\n",
      "21   0.457643  5.870000e+44\n",
      "22   0.512661  4.590000e+44\n",
      "23   1.331156  1.233000e+45\n",
      "24   0.253412  1.160000e+44\n",
      "25   0.378212  1.880000e+44\n",
      "26   0.261565  3.830000e+44\n",
      "27   0.410288  1.200000e+44\n",
      "28   1.238668  1.225000e+45\n",
      "29   0.419052  5.880000e+44\n",
      "30   0.729484  4.200000e+44\n",
      "31   0.183715  7.700000e+44\n",
      "32   0.262367  2.260000e+44\n",
      "33   0.839896  1.640000e+44\n",
      "34   0.218336  3.970000e+44\n",
      "35   0.297238  3.830000e+44\n"
     ]
    }
   ],
   "source": [
    "data=pd.read_csv('AR_2_Z.csv',header=0,)\n",
    "data = data.dropna(how='any')#quita los valores nan del documento\n",
    "y=data.iloc[:,0]\n",
    "x=data.iloc[:,1]\n",
    "print(stats.stdev(x))\n",
    "print(stats.stdev(y))\n",
    "print(data)"
   ]
  },
  {
   "cell_type": "code",
   "execution_count": 17,
   "metadata": {},
   "outputs": [
    {
     "data": {
      "text/plain": [
       "<function matplotlib.pyplot.show(close=None, block=None)>"
      ]
     },
     "execution_count": 17,
     "metadata": {},
     "output_type": "execute_result"
    },
    {
     "data": {
      "image/png": "[encoded data removed]",
      "text/plain": [
       "<Figure size 432x288 with 1 Axes>"
      ]
     },
     "metadata": {
      "needs_background": "light"
     },
     "output_type": "display_data"
    }
   ],
   "source": [
    "yerror = 2.750962868624901\n",
    "xerror = 7.636501998806637e+44\n",
    "plt.plot(x,y,'ro')\n",
    "plt.errorbar(x,y,yerr=yerror, fmt = ' ' , ecolor='black')\n",
    "plt.errorbar(x,y,xerr=xerror, fmt = ' ' , ecolor='blue')\n",
    "plt.ylabel('AR_Z_2')\n",
    "plt.xlabel('erg/seg')\n",
    "plt.title(\"Luminosidad_5100\")\n",
    "plt.xscale('log')\n",
    "#plt.yscale('log')\n",
    "plt.grid()\n",
    "plt.savefig(\"Luminosidad_5100_AR_Z_2_error.pdf\")\n",
    "plt.show"
   ]
  }
 ],
 "metadata": {
  "kernelspec": {
   "display_name": "Python 3",
   "language": "python",
   "name": "python3"
  },
  "language_info": {
   "codemirror_mode": {
    "name": "ipython",
    "version": 3
   },
   "file_extension": ".py",
   "mimetype": "text/x-python",
   "name": "python",
   "nbconvert_exporter": "python",
   "pygments_lexer": "ipython3",
   "version": "3.7.6"
  }
 },
 "nbformat": 4,
 "nbformat_minor": 4
}
