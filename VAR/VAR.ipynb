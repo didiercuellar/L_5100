{
 "cells": [
  {
   "cell_type": "code",
   "execution_count": 1,
   "metadata": {},
   "outputs": [],
   "source": [
    "import pandas as pd \n",
    "import numpy as np \n",
    "import scipy.stats as st \n",
    "from scipy.interpolate import interp1d\n",
    "from matplotlib import pyplot as plt \n",
    "import math\n",
    "import statistics as stats"
   ]
  },
  {
   "cell_type": "code",
   "execution_count": 2,
   "metadata": {},
   "outputs": [
    {
     "name": "stdout",
     "output_type": "stream",
     "text": [
      "7.636501998806637e+44\n",
      "           A         B             C\n",
      "0   0.035911  0.045538  1.882000e+45\n",
      "1   0.048223  0.039569  2.360000e+44\n",
      "2   0.404977  0.606289  4.360000e+44\n",
      "3   0.025107  0.033440  1.880000e+44\n",
      "4   0.089001  0.134069  7.660000e+44\n",
      "5   0.242631  0.280950  1.980000e+44\n",
      "6   0.106574  0.080705  4.910000e+44\n",
      "7   0.051394  0.037646  6.850000e+44\n",
      "8   0.029687  0.020322  1.260000e+44\n",
      "9   0.011739  0.008506  2.140000e+44\n",
      "10  0.032671  0.053604  1.165000e+45\n",
      "11  0.037640  0.067085  2.190000e+44\n",
      "12  0.099561  0.102051  1.580000e+44\n",
      "13  0.026328  0.014009  9.960000e+44\n",
      "14  0.022437  0.024326  4.442000e+45\n",
      "15  0.040507  0.034089  4.890000e+44\n",
      "16  0.031194  0.041750  4.040000e+44\n",
      "17  0.058585  0.058334  2.860000e+44\n",
      "18  0.032552  0.049203  2.730000e+44\n",
      "19  0.027154  0.031863  3.720000e+44\n",
      "20  0.037547  0.055518  6.020000e+44\n",
      "21  0.021752  0.029080  5.870000e+44\n",
      "22  0.119432  0.121536  4.590000e+44\n",
      "23  0.020015  0.024293  1.233000e+45\n",
      "24  0.024402  0.019559  1.160000e+44\n",
      "25  0.017211  0.015828  1.880000e+44\n",
      "26  0.021361  0.027599  3.830000e+44\n",
      "27  0.030228  0.028238  1.200000e+44\n",
      "28  0.013905  0.014333  1.225000e+45\n",
      "29  0.024984  0.025046  5.880000e+44\n",
      "30  0.015720  0.017745  4.200000e+44\n",
      "31  0.043227  0.052879  7.700000e+44\n",
      "32  0.076183  0.131674  2.260000e+44\n",
      "33  0.059129  0.051043  1.640000e+44\n",
      "34  0.208180  0.284057  3.970000e+44\n",
      "35  0.068710  0.093880  3.830000e+44\n"
     ]
    }
   ],
   "source": [
    "data=pd.read_csv('VAR_U.csv',header=0,)\n",
    "data = data.dropna(how='any')#quita los valores nan del documento\n",
    "y=data.iloc[:,0]\n",
    "w=data.iloc[:,1]\n",
    "x=data.iloc[:,2]\n",
    "print(stats.stdev(x))\n",
    "print(data)"
   ]
  },
  {
   "cell_type": "code",
   "execution_count": 3,
   "metadata": {},
   "outputs": [
    {
     "data": {
      "text/plain": [
       "<function matplotlib.pyplot.show(close=None, block=None)>"
      ]
     },
     "execution_count": 3,
     "metadata": {},
     "output_type": "execute_result"
    },
    {
     "data": {
      "image/png": "[encoded data removed]",
      "text/plain": [
       "<Figure size 432x288 with 1 Axes>"
      ]
     },
     "metadata": {
      "needs_background": "light"
     },
     "output_type": "display_data"
    }
   ],
   "source": [
    "yerror = w\n",
    "xerror = 7.636501998806637e+44\n",
    "plt.plot(x,y,'ro')\n",
    "plt.errorbar(x,y,yerr=yerror, fmt = ' ' , ecolor='black')\n",
    "plt.errorbar(x,y,xerr=xerror, fmt = ' ' , ecolor='blue')\n",
    "plt.ylabel('VAR_U')\n",
    "plt.xlabel('erg/seg')\n",
    "plt.title(\"luminosidad 5100\")\n",
    "plt.xscale('log')\n",
    "plt.ylim(0,0.20)\n",
    "#plt.yscale('log')\n",
    "plt.grid()\n",
    "plt.savefig(\"Luminosidad_5100_VAR_U_error.pdf\")\n",
    "plt.show"
   ]
  },
  {
   "cell_type": "code",
   "execution_count": 5,
   "metadata": {},
   "outputs": [
    {
     "name": "stdout",
     "output_type": "stream",
     "text": [
      "7.636501998806637e+44\n",
      "           A         B             C\n",
      "0   0.013527  0.008661  1.882000e+45\n",
      "1   0.017699  0.009798  2.360000e+44\n",
      "2   0.243050  0.294363  4.360000e+44\n",
      "3   0.016140  0.023448  1.880000e+44\n",
      "4   0.027366  0.014149  7.660000e+44\n",
      "5   0.142691  0.147908  1.980000e+44\n",
      "6   0.038920  0.025920  4.910000e+44\n",
      "7   0.032604  0.032639  6.850000e+44\n",
      "8   0.021831  0.011299  1.260000e+44\n",
      "9   0.007170  0.003570  2.140000e+44\n",
      "10  0.046332  0.029209  1.165000e+45\n",
      "11  0.019183  0.016169  2.190000e+44\n",
      "12  0.046773  0.061580  1.580000e+44\n",
      "13  0.026483  0.021688  9.960000e+44\n",
      "14  0.011848  0.005591  4.442000e+45\n",
      "15  0.013285  0.010333  4.890000e+44\n",
      "16  0.032935  0.017911  4.040000e+44\n",
      "17  0.019328  0.026467  2.860000e+44\n",
      "18  0.041947  0.027344  2.730000e+44\n",
      "19  0.010546  0.011158  3.720000e+44\n",
      "20  0.009464  0.009922  6.020000e+44\n",
      "21  0.027450  0.035369  5.870000e+44\n",
      "22  0.021583  0.023701  4.590000e+44\n",
      "23  0.032111  0.021152  1.233000e+45\n",
      "24  0.111889  0.022949  1.160000e+44\n",
      "25  0.034948  0.038690  1.880000e+44\n",
      "26  0.008602  0.006085  3.830000e+44\n",
      "27  0.056906  0.034760  1.200000e+44\n",
      "28  0.012831  0.011220  1.225000e+45\n",
      "29  0.011419  0.008746  5.880000e+44\n",
      "30  0.011614  0.006572  4.200000e+44\n",
      "31  0.010572  0.006776  7.700000e+44\n",
      "32  0.016589  0.011780  2.260000e+44\n",
      "33  0.013434  0.017977  1.640000e+44\n",
      "34  0.007028  0.005267  3.970000e+44\n",
      "35  0.016432  0.014520  3.830000e+44\n"
     ]
    }
   ],
   "source": [
    "data=pd.read_csv('VAR_G.csv',header=0,)\n",
    "data = data.dropna(how='any')#quita los valores nan del documento\n",
    "y=data.iloc[:,0]\n",
    "w=data.iloc[:,1]\n",
    "x=data.iloc[:,2]\n",
    "print(stats.stdev(x))\n",
    "print(data)"
   ]
  },
  {
   "cell_type": "code",
   "execution_count": 6,
   "metadata": {},
   "outputs": [
    {
     "data": {
      "text/plain": [
       "<function matplotlib.pyplot.show(close=None, block=None)>"
      ]
     },
     "execution_count": 6,
     "metadata": {},
     "output_type": "execute_result"
    },
    {
     "data": {
      "image/png": "[encoded data removed]",
      "text/plain": [
       "<Figure size 432x288 with 1 Axes>"
      ]
     },
     "metadata": {
      "needs_background": "light"
     },
     "output_type": "display_data"
    }
   ],
   "source": [
    "yerror = w\n",
    "xerror = 7.636501998806637e+44\n",
    "plt.plot(x,y,'ro')\n",
    "plt.errorbar(x,y,yerr=yerror, fmt = ' ' , ecolor='black')\n",
    "plt.errorbar(x,y,xerr=xerror, fmt = ' ' , ecolor='blue')\n",
    "plt.ylabel('VAR_G')\n",
    "plt.xlabel('erg/seg')\n",
    "plt.title(\"luminosidad 5100\")\n",
    "plt.xscale('log')\n",
    "#plt.yscale('log')\n",
    "plt.grid()\n",
    "plt.savefig(\"Luminosidad_5100_VAR_G_error.pdf\")\n",
    "plt.show"
   ]
  },
  {
   "cell_type": "code",
   "execution_count": 8,
   "metadata": {},
   "outputs": [
    {
     "name": "stdout",
     "output_type": "stream",
     "text": [
      "7.636501998806637e+44\n",
      "           A         B             C\n",
      "0   0.011296  0.011861  1.882000e+45\n",
      "1   0.022475  0.012813  2.360000e+44\n",
      "2   0.206401  0.269515  4.360000e+44\n",
      "3   0.013742  0.017776  1.880000e+44\n",
      "4   0.032052  0.041231  7.660000e+44\n",
      "5   0.253407  0.310591  1.980000e+44\n",
      "6   0.046887  0.044754  4.910000e+44\n",
      "7   0.022262  0.018587  6.850000e+44\n",
      "8   0.019492  0.011785  1.260000e+44\n",
      "9   0.008510  0.004818  2.140000e+44\n",
      "10  0.026767  0.014824  1.165000e+45\n",
      "11  0.017429  0.029338  2.190000e+44\n",
      "12  0.034628  0.042253  1.580000e+44\n",
      "13  0.021528  0.020539  9.960000e+44\n",
      "14  0.011802  0.017626  4.442000e+45\n",
      "15  0.010556  0.010035  4.890000e+44\n",
      "16  0.022535  0.013157  4.040000e+44\n",
      "17  0.012829  0.017090  2.860000e+44\n",
      "18  0.055712  0.061782  2.730000e+44\n",
      "19  0.012055  0.017769  3.720000e+44\n",
      "20  0.008480  0.005916  6.020000e+44\n",
      "21  0.018710  0.026640  5.870000e+44\n",
      "22  0.018710  0.026640  4.590000e+44\n",
      "23  0.006517  0.006274  1.233000e+45\n",
      "24  0.023465  0.024579  1.160000e+44\n",
      "25  0.020199  0.016893  1.880000e+44\n",
      "26  0.011421  0.012371  3.830000e+44\n",
      "27  0.018848  0.026581  1.200000e+44\n",
      "28  0.009386  0.004043  1.225000e+45\n",
      "29  0.062228  0.078467  5.880000e+44\n",
      "30  0.008377  0.011413  4.200000e+44\n",
      "31  0.013254  0.010710  7.700000e+44\n",
      "32  0.007077  0.010155  2.260000e+44\n",
      "33  0.013362  0.015913  1.640000e+44\n",
      "34  0.015243  0.014874  3.970000e+44\n",
      "35  0.008814  0.014378  3.830000e+44\n"
     ]
    }
   ],
   "source": [
    "data=pd.read_csv('VAR_R.csv',header=0,)\n",
    "data = data.dropna(how='any')#quita los valores nan del documento\n",
    "y=data.iloc[:,0]\n",
    "w=data.iloc[:,1]\n",
    "x=data.iloc[:,2]\n",
    "print(stats.stdev(x))\n",
    "print(data)"
   ]
  },
  {
   "cell_type": "code",
   "execution_count": 11,
   "metadata": {},
   "outputs": [
    {
     "data": {
      "text/plain": [
       "<function matplotlib.pyplot.show(close=None, block=None)>"
      ]
     },
     "execution_count": 11,
     "metadata": {},
     "output_type": "execute_result"
    },
    {
     "data": {
      "image/png": "[encoded data removed]",
      "text/plain": [
       "<Figure size 432x288 with 1 Axes>"
      ]
     },
     "metadata": {
      "needs_background": "light"
     },
     "output_type": "display_data"
    }
   ],
   "source": [
    "yerror = w\n",
    "xerror = 7.636501998806637e+44\n",
    "plt.plot(x,y,'ro')\n",
    "plt.errorbar(x,y,yerr=yerror, fmt = ' ' , ecolor='black')\n",
    "plt.errorbar(x,y,xerr=xerror, fmt = ' ' , ecolor='blue')\n",
    "plt.ylabel('VAR_R')\n",
    "plt.xlabel('erg/seg')\n",
    "plt.title(\"luminosidad 5100\")\n",
    "plt.xscale('log')\n",
    "plt.ylim(0,0.10)\n",
    "#plt.yscale('log')\n",
    "plt.grid()\n",
    "plt.savefig(\"Luminosidad_5100_VAR_R_error.pdf\")\n",
    "plt.show"
   ]
  },
  {
   "cell_type": "code",
   "execution_count": 13,
   "metadata": {},
   "outputs": [
    {
     "name": "stdout",
     "output_type": "stream",
     "text": [
      "7.636501998806637e+44\n",
      "           A         B             C\n",
      "0   0.006402  0.004100  1.882000e+45\n",
      "1   0.015817  0.009129  2.360000e+44\n",
      "2   0.221103  0.283365  4.360000e+44\n",
      "3   0.008726  0.008751  1.880000e+44\n",
      "4   0.012007  0.007486  7.660000e+44\n",
      "5   0.184627  0.272375  1.980000e+44\n",
      "6   0.028243  0.037913  4.910000e+44\n",
      "7   0.020601  0.024231  6.850000e+44\n",
      "8   0.014205  0.007058  1.260000e+44\n",
      "9   0.003876  0.003357  2.140000e+44\n",
      "10  0.011492  0.005550  1.165000e+45\n",
      "11  0.011642  0.012407  2.190000e+44\n",
      "12  0.027766  0.039739  1.580000e+44\n",
      "13  0.017724  0.015819  9.960000e+44\n",
      "14  0.010817  0.005613  4.442000e+45\n",
      "15  0.013621  0.013031  4.890000e+44\n",
      "16  0.015032  0.013457  4.040000e+44\n",
      "17  0.013096  0.016520  2.860000e+44\n",
      "18  0.061085  0.073846  2.730000e+44\n",
      "19  0.007644  0.010456  3.720000e+44\n",
      "20  0.015593  0.020972  6.020000e+44\n",
      "21  0.015526  0.023468  5.870000e+44\n",
      "22  0.009230  0.006078  4.590000e+44\n",
      "23  0.016730  0.021519  1.233000e+45\n",
      "24  0.015510  0.019136  1.160000e+44\n",
      "25  0.012082  0.006111  1.880000e+44\n",
      "26  0.011378  0.010422  3.830000e+44\n",
      "27  0.007591  0.025014  1.200000e+44\n",
      "28  0.027603  0.027043  1.225000e+45\n",
      "29  0.006729  0.005108  5.880000e+44\n",
      "30  0.008121  0.004660  4.200000e+44\n",
      "31  0.006587  0.011162  7.700000e+44\n",
      "32  0.010406  0.011785  2.260000e+44\n",
      "33  0.016284  0.027672  1.640000e+44\n",
      "34  0.005376  0.004343  3.970000e+44\n",
      "35  0.007464  0.007676  3.830000e+44\n"
     ]
    }
   ],
   "source": [
    "data=pd.read_csv('VAR_I.csv',header=0,)\n",
    "data = data.dropna(how='any')#quita los valores nan del documento\n",
    "y=data.iloc[:,0]\n",
    "w=data.iloc[:,1]\n",
    "x=data.iloc[:,2]\n",
    "print(stats.stdev(x))\n",
    "print(data)"
   ]
  },
  {
   "cell_type": "code",
   "execution_count": 14,
   "metadata": {},
   "outputs": [
    {
     "data": {
      "text/plain": [
       "<function matplotlib.pyplot.show(close=None, block=None)>"
      ]
     },
     "execution_count": 14,
     "metadata": {},
     "output_type": "execute_result"
    },
    {
     "data": {
      "image/png": "[encoded data removed]",
      "text/plain": [
       "<Figure size 432x288 with 1 Axes>"
      ]
     },
     "metadata": {
      "needs_background": "light"
     },
     "output_type": "display_data"
    }
   ],
   "source": [
    "yerror = w\n",
    "xerror = 7.636501998806637e+44\n",
    "plt.plot(x,y,'ro')\n",
    "plt.errorbar(x,y,yerr=yerror, fmt = ' ' , ecolor='black')\n",
    "plt.errorbar(x,y,xerr=xerror, fmt = ' ' , ecolor='blue')\n",
    "plt.ylabel('VAR_I')\n",
    "plt.xlabel('erg/seg')\n",
    "plt.title(\"luminosidad 5100\")\n",
    "plt.xscale('log')\n",
    "#plt.yscale('log')\n",
    "plt.grid()\n",
    "plt.savefig(\"Luminosidad_5100_VAR_I_error.pdf\")\n",
    "plt.show"
   ]
  },
  {
   "cell_type": "code",
   "execution_count": 15,
   "metadata": {},
   "outputs": [
    {
     "name": "stdout",
     "output_type": "stream",
     "text": [
      "7.636501998806637e+44\n",
      "           A         B             C\n",
      "0   0.002346  0.003401  1.882000e+45\n",
      "1   0.020644  0.034743  2.360000e+44\n",
      "2   0.141805  0.206988  4.360000e+44\n",
      "3   0.004277  0.006090  1.880000e+44\n",
      "4   0.005045  0.005110  7.660000e+44\n",
      "5   0.101043  0.151480  1.980000e+44\n",
      "6   0.007250  0.012529  4.910000e+44\n",
      "7   0.007924  0.013075  6.850000e+44\n",
      "8   0.016655  0.012617  1.260000e+44\n",
      "9   0.004750  0.004710  2.140000e+44\n",
      "10  0.009612  0.013549  1.165000e+45\n",
      "11  0.004827  0.011905  2.190000e+44\n",
      "12  0.014918  0.028294  1.580000e+44\n",
      "13  0.020459  0.029535  9.960000e+44\n",
      "14  0.011171  0.018547  4.442000e+45\n",
      "15  0.014420  0.018671  4.890000e+44\n",
      "16  0.004104  0.005445  4.040000e+44\n",
      "17  0.012479  0.021838  2.860000e+44\n",
      "18  0.048627  0.064547  2.730000e+44\n",
      "19  0.002678  0.004667  3.720000e+44\n",
      "20  0.008109  0.008001  6.020000e+44\n",
      "21  0.015445  0.022363  5.870000e+44\n",
      "22  0.012320  0.016654  4.590000e+44\n",
      "23  0.003070  0.009545  1.233000e+45\n",
      "24  0.013893  0.023541  1.160000e+44\n",
      "25  0.013893  0.023541  1.880000e+44\n",
      "26  0.006799  0.014545  3.830000e+44\n",
      "27  0.009855  0.012245  1.200000e+44\n",
      "28  0.012332  0.018499  1.225000e+45\n",
      "29  0.010865  0.011255  5.880000e+44\n",
      "30  0.005444  0.007372  4.200000e+44\n",
      "31  0.002094  0.003699  7.700000e+44\n",
      "32  0.010513  0.014262  2.260000e+44\n",
      "33  0.008916  0.013824  1.640000e+44\n",
      "34  0.004211  0.005308  3.970000e+44\n",
      "35  0.009230  0.014098  3.830000e+44\n"
     ]
    }
   ],
   "source": [
    "data=pd.read_csv('VAR_Z.csv',header=0,)\n",
    "data = data.dropna(how='any')#quita los valores nan del documento\n",
    "y=data.iloc[:,0]\n",
    "w=data.iloc[:,1]\n",
    "x=data.iloc[:,2]\n",
    "print(stats.stdev(x))\n",
    "print(data)"
   ]
  },
  {
   "cell_type": "code",
   "execution_count": 16,
   "metadata": {},
   "outputs": [
    {
     "data": {
      "text/plain": [
       "<function matplotlib.pyplot.show(close=None, block=None)>"
      ]
     },
     "execution_count": 16,
     "metadata": {},
     "output_type": "execute_result"
    },
    {
     "data": {
      "image/png": "[encoded data removed]",
      "text/plain": [
       "<Figure size 432x288 with 1 Axes>"
      ]
     },
     "metadata": {
      "needs_background": "light"
     },
     "output_type": "display_data"
    }
   ],
   "source": [
    "yerror = w\n",
    "xerror = 7.636501998806637e+44\n",
    "plt.plot(x,y,'ro')\n",
    "plt.errorbar(x,y,yerr=yerror, fmt = ' ' , ecolor='black')\n",
    "plt.errorbar(x,y,xerr=xerror, fmt = ' ' , ecolor='blue')\n",
    "plt.ylabel('VAR_Z')\n",
    "plt.xlabel('erg/seg')\n",
    "plt.title(\"luminosidad 5100\")\n",
    "plt.xscale('log')\n",
    "#plt.yscale('log')\n",
    "plt.grid()\n",
    "plt.savefig(\"Luminosidad_5100_VAR_Z_error.pdf\")\n",
    "plt.show"
   ]
  }
 ],
 "metadata": {
  "kernelspec": {
   "display_name": "Python 3",
   "language": "python",
   "name": "python3"
  },
  "language_info": {
   "codemirror_mode": {
    "name": "ipython",
    "version": 3
   },
   "file_extension": ".py",
   "mimetype": "text/x-python",
   "name": "python",
   "nbconvert_exporter": "python",
   "pygments_lexer": "ipython3",
   "version": "3.7.6"
  }
 },
 "nbformat": 4,
 "nbformat_minor": 4
}
